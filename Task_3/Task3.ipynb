{
 "cells": [
  {
   "cell_type": "markdown",
   "id": "baf7dbc6-6929-4d1d-9350-e4fc6bd2ea22",
   "metadata": {},
   "source": [
    "## Tâche 3 "
   ]
  },
  {
   "cell_type": "code",
   "execution_count": 1,
   "id": "a67a51b6-1263-4676-800c-bfb60a0ae8d0",
   "metadata": {},
   "outputs": [
    {
     "name": "stdout",
     "output_type": "stream",
     "text": [
      "Requirement already satisfied: diffusers in c:\\users\\hp\\anaconda3\\lib\\site-packages (0.29.1)\n",
      "Requirement already satisfied: importlib-metadata in c:\\users\\hp\\anaconda3\\lib\\site-packages (from diffusers) (7.0.1)\n",
      "Requirement already satisfied: filelock in c:\\users\\hp\\anaconda3\\lib\\site-packages (from diffusers) (3.13.1)\n",
      "Requirement already satisfied: huggingface-hub>=0.23.2 in c:\\users\\hp\\anaconda3\\lib\\site-packages (from diffusers) (0.23.4)\n",
      "Requirement already satisfied: numpy in c:\\users\\hp\\anaconda3\\lib\\site-packages (from diffusers) (1.24.3)\n",
      "Requirement already satisfied: regex!=2019.12.17 in c:\\users\\hp\\anaconda3\\lib\\site-packages (from diffusers) (2023.10.3)\n",
      "Requirement already satisfied: requests in c:\\users\\hp\\anaconda3\\lib\\site-packages (from diffusers) (2.31.0)\n",
      "Requirement already satisfied: safetensors>=0.3.1 in c:\\users\\hp\\anaconda3\\lib\\site-packages (from diffusers) (0.4.3)\n",
      "Requirement already satisfied: Pillow in c:\\users\\hp\\anaconda3\\lib\\site-packages (from diffusers) (10.2.0)\n",
      "Requirement already satisfied: fsspec>=2023.5.0 in c:\\users\\hp\\anaconda3\\lib\\site-packages (from huggingface-hub>=0.23.2->diffusers) (2023.10.0)\n",
      "Requirement already satisfied: packaging>=20.9 in c:\\users\\hp\\anaconda3\\lib\\site-packages (from huggingface-hub>=0.23.2->diffusers) (23.1)\n",
      "Requirement already satisfied: pyyaml>=5.1 in c:\\users\\hp\\anaconda3\\lib\\site-packages (from huggingface-hub>=0.23.2->diffusers) (6.0.1)\n",
      "Requirement already satisfied: tqdm>=4.42.1 in c:\\users\\hp\\anaconda3\\lib\\site-packages (from huggingface-hub>=0.23.2->diffusers) (4.65.0)\n",
      "Requirement already satisfied: typing-extensions>=3.7.4.3 in c:\\users\\hp\\anaconda3\\lib\\site-packages (from huggingface-hub>=0.23.2->diffusers) (4.9.0)\n",
      "Requirement already satisfied: zipp>=0.5 in c:\\users\\hp\\anaconda3\\lib\\site-packages (from importlib-metadata->diffusers) (3.17.0)\n",
      "Requirement already satisfied: charset-normalizer<4,>=2 in c:\\users\\hp\\anaconda3\\lib\\site-packages (from requests->diffusers) (2.0.4)\n",
      "Requirement already satisfied: idna<4,>=2.5 in c:\\users\\hp\\anaconda3\\lib\\site-packages (from requests->diffusers) (3.4)\n",
      "Requirement already satisfied: urllib3<3,>=1.21.1 in c:\\users\\hp\\anaconda3\\lib\\site-packages (from requests->diffusers) (2.0.7)\n",
      "Requirement already satisfied: certifi>=2017.4.17 in c:\\users\\hp\\anaconda3\\lib\\site-packages (from requests->diffusers) (2024.6.2)\n",
      "Requirement already satisfied: colorama in c:\\users\\hp\\anaconda3\\lib\\site-packages (from tqdm>=4.42.1->huggingface-hub>=0.23.2->diffusers) (0.4.6)\n"
     ]
    }
   ],
   "source": [
    "!pip install diffusers"
   ]
  },
  {
   "cell_type": "code",
   "execution_count": 2,
   "id": "d040079f-64f8-43b8-bc2f-713dc36f66ee",
   "metadata": {},
   "outputs": [
    {
     "name": "stdout",
     "output_type": "stream",
     "text": [
      "Requirement already satisfied: transformers in c:\\users\\hp\\anaconda3\\lib\\site-packages (4.41.2)\n",
      "Requirement already satisfied: filelock in c:\\users\\hp\\anaconda3\\lib\\site-packages (from transformers) (3.13.1)\n",
      "Requirement already satisfied: huggingface-hub<1.0,>=0.23.0 in c:\\users\\hp\\anaconda3\\lib\\site-packages (from transformers) (0.23.4)\n",
      "Requirement already satisfied: numpy>=1.17 in c:\\users\\hp\\anaconda3\\lib\\site-packages (from transformers) (1.24.3)\n",
      "Requirement already satisfied: packaging>=20.0 in c:\\users\\hp\\anaconda3\\lib\\site-packages (from transformers) (23.1)\n",
      "Requirement already satisfied: pyyaml>=5.1 in c:\\users\\hp\\anaconda3\\lib\\site-packages (from transformers) (6.0.1)\n",
      "Requirement already satisfied: regex!=2019.12.17 in c:\\users\\hp\\anaconda3\\lib\\site-packages (from transformers) (2023.10.3)\n",
      "Requirement already satisfied: requests in c:\\users\\hp\\anaconda3\\lib\\site-packages (from transformers) (2.31.0)\n",
      "Requirement already satisfied: tokenizers<0.20,>=0.19 in c:\\users\\hp\\anaconda3\\lib\\site-packages (from transformers) (0.19.1)\n",
      "Requirement already satisfied: safetensors>=0.4.1 in c:\\users\\hp\\anaconda3\\lib\\site-packages (from transformers) (0.4.3)\n",
      "Requirement already satisfied: tqdm>=4.27 in c:\\users\\hp\\anaconda3\\lib\\site-packages (from transformers) (4.65.0)\n",
      "Requirement already satisfied: fsspec>=2023.5.0 in c:\\users\\hp\\anaconda3\\lib\\site-packages (from huggingface-hub<1.0,>=0.23.0->transformers) (2023.10.0)\n",
      "Requirement already satisfied: typing-extensions>=3.7.4.3 in c:\\users\\hp\\anaconda3\\lib\\site-packages (from huggingface-hub<1.0,>=0.23.0->transformers) (4.9.0)\n",
      "Requirement already satisfied: colorama in c:\\users\\hp\\anaconda3\\lib\\site-packages (from tqdm>=4.27->transformers) (0.4.6)\n",
      "Requirement already satisfied: charset-normalizer<4,>=2 in c:\\users\\hp\\anaconda3\\lib\\site-packages (from requests->transformers) (2.0.4)\n",
      "Requirement already satisfied: idna<4,>=2.5 in c:\\users\\hp\\anaconda3\\lib\\site-packages (from requests->transformers) (3.4)\n",
      "Requirement already satisfied: urllib3<3,>=1.21.1 in c:\\users\\hp\\anaconda3\\lib\\site-packages (from requests->transformers) (2.0.7)\n",
      "Requirement already satisfied: certifi>=2017.4.17 in c:\\users\\hp\\anaconda3\\lib\\site-packages (from requests->transformers) (2024.6.2)\n"
     ]
    }
   ],
   "source": [
    "!pip install transformers"
   ]
  },
  {
   "cell_type": "code",
   "execution_count": null,
   "id": "837feba2-4f10-40e2-a9d3-9741ebdbeac6",
   "metadata": {},
   "outputs": [],
   "source": [
    "import tkinter as tk\n",
    "from tkinter import ttk, messagebox\n",
    "from PIL import ImageTk, Image\n",
    "import threading\n",
    "from diffusers import StableDiffusionPipeline\n",
    "\n",
    "# Fonction pour générer l'image\n",
    "def generate_image():\n",
    "    prompt = entry_description.get()\n",
    "    if not prompt:\n",
    "        messagebox.showerror(\"Erreur\", \"Veuillez entrer une description.\")\n",
    "        return\n",
    "    \n",
    "    spinner.grid(row=1, column=2, padx=10, pady=10)  # Afficher le spinner\n",
    "    spinner.start()  # Démarrer le spinner\n",
    "    \n",
    "    # Fonction de génération d'image en arrière-plan\n",
    "    def generate():\n",
    "        try:\n",
    "            # Charger le modèle\n",
    "            pipe = StableDiffusionPipeline.from_pretrained(\"hf-internal-testing/tiny-stable-diffusion-torch\")\n",
    "            pipe.to(\"cpu\")  # Utiliser le CPU pour la génération\n",
    "            \n",
    "            # Générer l'image\n",
    "            image = pipe(prompt).images[0]\n",
    "            \n",
    "            # Afficher l'image générée dans la zone d'affichage\n",
    "            img = ImageTk.PhotoImage(image.resize((400, 200)))\n",
    "            canvas.create_image(0, 0, anchor='nw', image=img)\n",
    "            canvas.image = img  # Sauvegarder une référence à l'image\n",
    "            \n",
    "            # Ajouter une légende sous l'image\n",
    "            canvas.create_text(200, 180, text=prompt, fill=\"black\")\n",
    "        except Exception as e:\n",
    "            messagebox.showerror(\"Erreur\", str(e))\n",
    "        finally:\n",
    "            spinner.stop()  # Arrêter le spinner\n",
    "            spinner.grid_remove()  # Cacher le spinner\n",
    "    \n",
    "    thread = threading.Thread(target=generate)\n",
    "    thread.start()\n",
    "\n",
    "# Création de la fenêtre principale\n",
    "root = tk.Tk()\n",
    "root.title(\"Tkinter Application UI\")\n",
    "root.geometry(\"600x400\")\n",
    "\n",
    "# Création d'une étiquette et d'un champ de saisie pour la description\n",
    "label_description = tk.Label(root, text=\"Description:\")\n",
    "label_description.grid(row=0, column=0, padx=10, pady=10, sticky=\"e\")\n",
    "\n",
    "entry_description = tk.Entry(root, width=50)\n",
    "entry_description.grid(row=0, column=1, padx=10, pady=10)\n",
    "\n",
    "# Création du bouton pour générer l'image\n",
    "button_generate = tk.Button(root, text=\"Generate Image\", command=generate_image)\n",
    "button_generate.grid(row=1, column=1, padx=10, pady=10)\n",
    "\n",
    "# Création du spinner (utilisation de ttk.Progressbar)\n",
    "spinner = ttk.Progressbar(root, mode='indeterminate')\n",
    "spinner.grid(row=1, column=2, padx=10, pady=10)\n",
    "spinner.grid_remove()  # Cacher le spinner initialement\n",
    "\n",
    "# Création de la zone d'affichage de l'image\n",
    "canvas = tk.Canvas(root, width=400, height=200, bg=\"white\")\n",
    "canvas.grid(row=2, column=0, columnspan=3, padx=10, pady=10)\n",
    "\n",
    "# Lancement de la boucle principale\n",
    "root.mainloop()"
   ]
  }
 ],
 "metadata": {
  "kernelspec": {
   "display_name": "Python 3 (ipykernel)",
   "language": "python",
   "name": "python3"
  },
  "language_info": {
   "codemirror_mode": {
    "name": "ipython",
    "version": 3
   },
   "file_extension": ".py",
   "mimetype": "text/x-python",
   "name": "python",
   "nbconvert_exporter": "python",
   "pygments_lexer": "ipython3",
   "version": "3.11.7"
  }
 },
 "nbformat": 4,
 "nbformat_minor": 5
}
